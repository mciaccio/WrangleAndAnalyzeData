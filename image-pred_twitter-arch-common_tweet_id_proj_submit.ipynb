{
 "cells": [
  {
   "cell_type": "code",
   "execution_count": 1,
   "metadata": {},
   "outputs": [],
   "source": [
    "# %reset"
   ]
  },
  {
   "cell_type": "code",
   "execution_count": 2,
   "metadata": {},
   "outputs": [],
   "source": [
    "import pandas as pd\n",
    "import collections\n",
    "import pickle"
   ]
  },
  {
   "cell_type": "markdown",
   "metadata": {},
   "source": [
    "## Assess"
   ]
  },
  {
   "cell_type": "markdown",
   "metadata": {},
   "source": [
    "Not Tidy  \n",
    "tweet_id(s) not common across pandas DataFrames  \n",
    "preparation for eventual merge, with real time tweepy.API Twitter Data Query, the 3rd pandas DataFrame\n",
    "* Twitter Data Query is a tweet_id driven process  \n",
    "* tweet_id(s) __common__ to both image_predictions_df_clean and twitter_archive_enhanced_clean_df will drive the Twitter Data Query\n",
    "* common tweet_id(s) required for eventual tweet_id driven merge of all 3 pandas DataFrames"
   ]
  },
  {
   "cell_type": "code",
   "execution_count": 3,
   "metadata": {},
   "outputs": [
    {
     "name": "stdout",
     "output_type": "stream",
     "text": [
      "twitter_archive_enhanced_clean_df.shape\n",
      "(2163, 11)\n"
     ]
    }
   ],
   "source": [
    "# read cleaned - twitter_archive_enhanced_clean_df \n",
    "with open('twitter_archive_enhanced_clean_df.pkl', 'rb') as f:\n",
    "    twitter_archive_enhanced_clean_df = pickle.load(f) \n",
    "\n",
    "# make sure we can read it \n",
    "print('twitter_archive_enhanced_clean_df.shape')\n",
    "print(twitter_archive_enhanced_clean_df.shape)"
   ]
  },
  {
   "cell_type": "code",
   "execution_count": 4,
   "metadata": {},
   "outputs": [
    {
     "name": "stdout",
     "output_type": "stream",
     "text": [
      "image_predictions_df_clean.shape\n",
      "(2072, 12)\n"
     ]
    }
   ],
   "source": [
    "# read cleaned - image_predictions_df_clean\n",
    "with open('image_predictions_df_clean.pkl', 'rb') as f:\n",
    "    image_predictions_df_clean = pickle.load(f)\n",
    "    \n",
    "# make sure we can read it\n",
    "print('image_predictions_df_clean.shape')\n",
    "print(image_predictions_df_clean.shape)"
   ]
  },
  {
   "cell_type": "markdown",
   "metadata": {},
   "source": [
    "tweet_id(s) NOT common - different row counts"
   ]
  },
  {
   "cell_type": "markdown",
   "metadata": {},
   "source": [
    "look for tweet_id(s) in both DataFrames method 1 of 2"
   ]
  },
  {
   "cell_type": "code",
   "execution_count": 5,
   "metadata": {},
   "outputs": [
    {
     "name": "stdout",
     "output_type": "stream",
     "text": [
      "twitter_and_image_count - 1982\n",
      "len(image_driven_common_list) - 1982\n",
      "\n",
      "image_only_count - 90\n",
      "len(image_only_list) - 90\n"
     ]
    }
   ],
   "source": [
    "# Eventually there will be 3 pandas DataFrames merged. \n",
    "# The merges will be based on the tweet_id pandas Series, column \n",
    "# in each of the 3 pandas DataFrames. \n",
    "# Identify common tweet_id(s) method 1 of 2. \n",
    "# Using 2 methods may be seen as redundant it can also be \n",
    "# seen thorough. Method 1 of 2 iterates through the  \n",
    "# image_predictions_df_clean pandas DataFrame and finds tweet_id(s) \n",
    "# common with the twitter_archive_enhanced_clean_df pandas DataFrame.\n",
    "\n",
    "image_only_count = 0\n",
    "image_only_list = []\n",
    "image_driven_common_list = []\n",
    "\n",
    "twitter_and_image_count = 0\n",
    "\n",
    "for index, row in image_predictions_df_clean.iterrows():\n",
    "    \n",
    "    # (df.index == 'entry').any()\n",
    "    tweet_id_is_common = \\\n",
    "    (twitter_archive_enhanced_clean_df.tweet_id == row.tweet_id).any()\n",
    "    # print('tweet_id_is_common - {}'.format(tweet_id_is_common))\n",
    "    # print('type(tweet_id_is_common) - {}\\n'.format(type(tweet_id_is_common)))\n",
    "\n",
    "    if tweet_id_is_common :\n",
    "        twitter_and_image_count += 1\n",
    "        image_driven_common_list.append(row.tweet_id)\n",
    "\n",
    "    if not tweet_id_is_common :\n",
    "        image_only_count += 1\n",
    "        image_only_list.append(row.tweet_id)\n",
    "        \n",
    "print('twitter_and_image_count - {}'.format(twitter_and_image_count))\n",
    "print('len(image_driven_common_list) - {}\\n'.format(len(image_driven_common_list)))\n",
    "\n",
    "print('image_only_count - {}'.format(image_only_count))\n",
    "print('len(image_only_list) - {}'.format(len(image_only_list)))\n",
    " "
   ]
  },
  {
   "cell_type": "markdown",
   "metadata": {},
   "source": [
    "look for tweet_id(s) in both DataFrames method 2 of 2"
   ]
  },
  {
   "cell_type": "code",
   "execution_count": 6,
   "metadata": {},
   "outputs": [
    {
     "name": "stdout",
     "output_type": "stream",
     "text": [
      "twitter_and_image_count - 1982\n",
      "len(twitter_driven_common_list) - 1982\n",
      "\n",
      "twitter_only_count - 181\n",
      "len(twitter_only_list) - 181\n",
      "\n"
     ]
    }
   ],
   "source": [
    "# method 2 of 2 iterate through \n",
    "# twitter_archive_enhanced_clean_df pandas DataFrame\n",
    "# find tweet_id(s) common with the \n",
    "# image_predictions_df_clean pandas DataFrame\n",
    "\n",
    "twitter_only_count = 0\n",
    "twitter_only_list = []\n",
    "twitter_driven_common_list = []\n",
    "\n",
    "twitter_and_image_count = 0\n",
    " \n",
    "for index, row in twitter_archive_enhanced_clean_df.iterrows():\n",
    "         \n",
    "    tweet_id_is_common = (image_predictions_df_clean.tweet_id == row.tweet_id).any()    \n",
    "    # print('x - {}'.format(x))\n",
    "    # print('type(x) - {}\\n'.format(type(x)))\n",
    "\n",
    "    if tweet_id_is_common :\n",
    "        twitter_and_image_count += 1\n",
    "        twitter_driven_common_list.append(row.tweet_id)\n",
    "\n",
    "    if not tweet_id_is_common :\n",
    "        twitter_only_count += 1\n",
    "        twitter_only_list.append(row.tweet_id)\n",
    "        \n",
    "print('twitter_and_image_count - {}'.format(twitter_and_image_count))\n",
    "print('len(twitter_driven_common_list) - {}\\n'.format(len(twitter_driven_common_list)))\n",
    "\n",
    "print('twitter_only_count - {}'.format(twitter_only_count))\n",
    "print('len(twitter_only_list) - {}\\n'.format(len(twitter_only_list)))\n",
    "    "
   ]
  },
  {
   "cell_type": "markdown",
   "metadata": {},
   "source": [
    "verify common tweet_id(s) arrived at 2 ways are indeed commom"
   ]
  },
  {
   "cell_type": "code",
   "execution_count": 7,
   "metadata": {},
   "outputs": [
    {
     "data": {
      "text/plain": [
       "True"
      ]
     },
     "execution_count": 7,
     "metadata": {},
     "output_type": "execute_result"
    }
   ],
   "source": [
    "# confirm common tweet_id derived lists match\n",
    "collections.Counter(image_driven_common_list) == \\\n",
    "collections.Counter(twitter_driven_common_list)"
   ]
  },
  {
   "cell_type": "markdown",
   "metadata": {},
   "source": [
    "## Clean"
   ]
  },
  {
   "cell_type": "markdown",
   "metadata": {},
   "source": [
    "### Define"
   ]
  },
  {
   "cell_type": "markdown",
   "metadata": {},
   "source": [
    "synchronize image and twitter archive DataFrames - only rows with common tweet_id(s)"
   ]
  },
  {
   "cell_type": "markdown",
   "metadata": {},
   "source": [
    "### Code"
   ]
  },
  {
   "cell_type": "code",
   "execution_count": 8,
   "metadata": {},
   "outputs": [
    {
     "name": "stdout",
     "output_type": "stream",
     "text": [
      "twitter_archive_common_df.shape\n",
      "(1982, 11)\n"
     ]
    }
   ],
   "source": [
    "twitter_archive_common_df = \\\n",
    "twitter_archive_enhanced_clean_df\\\n",
    "[twitter_archive_enhanced_clean_df.tweet_id.isin\\\n",
    "(twitter_driven_common_list)]\n",
    "\n",
    "print('twitter_archive_common_df.shape')\n",
    "print(twitter_archive_common_df.shape)\n"
   ]
  },
  {
   "cell_type": "code",
   "execution_count": 9,
   "metadata": {},
   "outputs": [
    {
     "name": "stdout",
     "output_type": "stream",
     "text": [
      "image_common_df.shape\n",
      "(1982, 12)\n"
     ]
    }
   ],
   "source": [
    "image_common_df = image_predictions_df_clean\\\n",
    "[image_predictions_df_clean.tweet_id.isin(image_driven_common_list)]\n",
    "\n",
    "print('image_common_df.shape')\n",
    "print(image_common_df.shape)"
   ]
  },
  {
   "cell_type": "markdown",
   "metadata": {},
   "source": [
    "## Test"
   ]
  },
  {
   "cell_type": "markdown",
   "metadata": {},
   "source": [
    "verify tweet_id(s) are indeed common in the 2 DataFrames"
   ]
  },
  {
   "cell_type": "code",
   "execution_count": 10,
   "metadata": {},
   "outputs": [
    {
     "name": "stdout",
     "output_type": "stream",
     "text": [
      "image_common_df.shape\n",
      "(1982, 12)\n",
      "twitter_archive_common_df.shape\n",
      "(1982, 11)\n",
      "\n",
      "image_twitter_common_tweet_id_counter - 1982\n"
     ]
    }
   ],
   "source": [
    "# iterate through image_common_df\n",
    "# test - veryify image_common_df - twitter_archive_common_df \n",
    "# tweet_id match\n",
    " \n",
    "image_twitter_common_tweet_id_counter = 0\n",
    "\n",
    "print('image_common_df.shape')\n",
    "print(image_common_df.shape)\n",
    "\n",
    "print('twitter_archive_common_df.shape')\n",
    "print(twitter_archive_common_df.shape)\n",
    "print()\n",
    "\n",
    "for index, row in image_common_df.iterrows():\n",
    "    \n",
    "    tweet_id_is_common = \\\n",
    "    (twitter_archive_common_df.tweet_id == row.tweet_id).any() \n",
    "    \n",
    "    if tweet_id_is_common :\n",
    "        image_twitter_common_tweet_id_counter +=1\n",
    "    else:\n",
    "        raise Exception('tweet_id common error - image tweet_id is: {}'.format(row.tweet_id))\n",
    "    \n",
    "print('image_twitter_common_tweet_id_counter - {}'.\\\n",
    "      format(image_twitter_common_tweet_id_counter))\n"
   ]
  },
  {
   "cell_type": "markdown",
   "metadata": {},
   "source": [
    "Successful pandas DataFrame merge preparation -  \n",
    "pandas DataFrame - image_common_df  \n",
    "and  \n",
    "pandas DataFrame - twitter_archive_common_df  \n",
    "have the SAME tweet_id(s)  "
   ]
  },
  {
   "cell_type": "code",
   "execution_count": 11,
   "metadata": {},
   "outputs": [],
   "source": [
    "with open('image_common_df.pkl', 'wb') as f:\n",
    "        pickle.dump(image_common_df, f)"
   ]
  },
  {
   "cell_type": "code",
   "execution_count": 12,
   "metadata": {},
   "outputs": [
    {
     "name": "stdout",
     "output_type": "stream",
     "text": [
      "image_common_df.shape\n",
      "(1982, 12)\n"
     ]
    }
   ],
   "source": [
    "# make sure we can read it back in \n",
    "with open('image_common_df.pkl', 'rb') as f:\n",
    "    image_common_df = pickle.load(f)\n",
    "    \n",
    "print('image_common_df.shape')\n",
    "print(image_common_df.shape)"
   ]
  },
  {
   "cell_type": "code",
   "execution_count": 13,
   "metadata": {},
   "outputs": [],
   "source": [
    "with open('twitter_archive_common_df.pkl', 'wb') as f:\n",
    "        pickle.dump(twitter_archive_common_df, f)"
   ]
  },
  {
   "cell_type": "code",
   "execution_count": 14,
   "metadata": {},
   "outputs": [
    {
     "name": "stdout",
     "output_type": "stream",
     "text": [
      "twitter_archive_common_df.shape\n",
      "(1982, 11)\n"
     ]
    }
   ],
   "source": [
    "# make sure we can read it back in \n",
    "\n",
    "with open('twitter_archive_common_df.pkl', 'rb') as f:\n",
    "    twitter_archive_common_df = pickle.load(f)\n",
    "    \n",
    "print('twitter_archive_common_df.shape')\n",
    "print(twitter_archive_common_df.shape)"
   ]
  }
 ],
 "metadata": {
  "kernelspec": {
   "display_name": "Python 3",
   "language": "python",
   "name": "python3"
  },
  "language_info": {
   "codemirror_mode": {
    "name": "ipython",
    "version": 3
   },
   "file_extension": ".py",
   "mimetype": "text/x-python",
   "name": "python",
   "nbconvert_exporter": "python",
   "pygments_lexer": "ipython3",
   "version": "3.6.3"
  }
 },
 "nbformat": 4,
 "nbformat_minor": 2
}
