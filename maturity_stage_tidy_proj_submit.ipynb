{
 "cells": [
  {
   "cell_type": "code",
   "execution_count": 29,
   "metadata": {},
   "outputs": [],
   "source": [
    "import pandas as pd\n",
    "import pickle"
   ]
  },
  {
   "cell_type": "code",
   "execution_count": 30,
   "metadata": {},
   "outputs": [],
   "source": [
    "# retrieve twitter_archive_enhanced_clean_df \n",
    "# pickle read\n",
    "\n",
    "twitter_archive_enhanced_clean_df = \\\n",
    "pd.read_pickle('twitter_archive_enhanced_clean_df.pkl')"
   ]
  },
  {
   "cell_type": "code",
   "execution_count": 31,
   "metadata": {},
   "outputs": [
    {
     "data": {
      "text/plain": [
       "(2175, 14)"
      ]
     },
     "execution_count": 31,
     "metadata": {},
     "output_type": "execute_result"
    }
   ],
   "source": [
    "twitter_archive_enhanced_clean_df.shape"
   ]
  },
  {
   "cell_type": "markdown",
   "metadata": {},
   "source": [
    "## Assess"
   ]
  },
  {
   "cell_type": "markdown",
   "metadata": {},
   "source": [
    "* Tidiness\n",
    "  * Each variable forms a column\n",
    "  * Each observation forms a row\n",
    "  * Each type of observational unit forms a table  \n",
    "<br>\n",
    "- doggo, floofer, pupper, puppo pandas series, columns non compliant"
   ]
  },
  {
   "cell_type": "markdown",
   "metadata": {},
   "source": [
    "## Clean"
   ]
  },
  {
   "cell_type": "markdown",
   "metadata": {},
   "source": [
    "### Define"
   ]
  },
  {
   "cell_type": "markdown",
   "metadata": {},
   "source": [
    "make doggo, floofer, pupper, puppo data tidy compliant  \n",
    "Requirement - Each variable forms a column  \n",
    "Create the required column - 'maturity'"
   ]
  },
  {
   "cell_type": "markdown",
   "metadata": {},
   "source": [
    "### Code"
   ]
  },
  {
   "cell_type": "code",
   "execution_count": 32,
   "metadata": {},
   "outputs": [],
   "source": [
    "twitter_archive_enhanced_clean_df[\"maturity\"] = ''"
   ]
  },
  {
   "cell_type": "markdown",
   "metadata": {},
   "source": [
    "### Test"
   ]
  },
  {
   "cell_type": "code",
   "execution_count": 33,
   "metadata": {},
   "outputs": [
    {
     "name": "stdout",
     "output_type": "stream",
     "text": [
      "<class 'pandas.core.frame.DataFrame'>\n",
      "Int64Index: 2175 entries, 0 to 2355\n",
      "Data columns (total 15 columns):\n",
      "tweet_id                 2175 non-null object\n",
      "in_reply_to_status_id    78 non-null object\n",
      "in_reply_to_user_id      78 non-null object\n",
      "timestamp                2175 non-null datetime64[ns]\n",
      "source                   2175 non-null object\n",
      "text                     2175 non-null object\n",
      "expanded_urls            2117 non-null object\n",
      "rating_numerator         2175 non-null int64\n",
      "rating_denominator       2175 non-null int64\n",
      "name                     2175 non-null object\n",
      "doggo                    2175 non-null object\n",
      "floofer                  2175 non-null object\n",
      "pupper                   2175 non-null object\n",
      "puppo                    2175 non-null object\n",
      "maturity                 2175 non-null object\n",
      "dtypes: datetime64[ns](1), int64(2), object(12)\n",
      "memory usage: 271.9+ KB\n"
     ]
    }
   ],
   "source": [
    "twitter_archive_enhanced_clean_df.info()"
   ]
  },
  {
   "cell_type": "markdown",
   "metadata": {},
   "source": [
    "Success  \n",
    "tidy compliant maturity column instantiated "
   ]
  },
  {
   "cell_type": "markdown",
   "metadata": {},
   "source": [
    "## Assess"
   ]
  },
  {
   "cell_type": "markdown",
   "metadata": {},
   "source": [
    "Ambiguous (outlier) maturity rows, observations identified\n",
    "* Example. \n",
    "  * tweet_id - 855851453814013952\n",
    "  * doggo - puppo"
   ]
  },
  {
   "cell_type": "markdown",
   "metadata": {},
   "source": [
    "## Clean"
   ]
  },
  {
   "cell_type": "markdown",
   "metadata": {},
   "source": [
    "### Define"
   ]
  },
  {
   "cell_type": "markdown",
   "metadata": {},
   "source": [
    "identify - remove - Clean - ambiguous maturity rows (outliers)  \n",
    "capture unambiguous individual maturity stage counts  \n",
    "individual maturity stage required for Tidy data compliance"
   ]
  },
  {
   "cell_type": "markdown",
   "metadata": {},
   "source": [
    "### Code"
   ]
  },
  {
   "cell_type": "code",
   "execution_count": 34,
   "metadata": {},
   "outputs": [
    {
     "name": "stdout",
     "output_type": "stream",
     "text": [
      "twitter_archive_enhanced_clean_df.shape\n",
      "(2175, 15)\n",
      "\n",
      "counter - 2175\n",
      "doggo_counter - 75\n",
      "floofer_counter - 9\n",
      "pupper_counter - 224\n",
      "puppo_counter - 24\n",
      "\n",
      "multiple_stage_delete_list - ['855851453814013952', '854010172552949760', '817777686764523521', '808106460588765185', '802265048156610565', '801115127852503040', '785639753186217984', '781308096455073793', '759793422261743616', '751583847268179968', '741067306818797568', '733109485275860992']\n",
      "len(multiple_stage_delete_list) - 12\n",
      "\n"
     ]
    }
   ],
   "source": [
    "print('twitter_archive_enhanced_clean_df.shape')\n",
    "print(twitter_archive_enhanced_clean_df.shape)\n",
    "print()\n",
    "\n",
    "counter = 0\n",
    "doggo_counter = 0\n",
    "floofer_counter = 0\n",
    "pupper_counter = 0\n",
    "puppo_counter = 0\n",
    "multiple_stage_delete_list = []\n",
    "\n",
    "for index, row in twitter_archive_enhanced_clean_df.iterrows():\n",
    "    counter += 1\n",
    "    \n",
    "    if row.floofer == 'None' and row.pupper == 'None'and \\\n",
    "    row.puppo == 'None' and row.doggo == 'None':\n",
    "        # valid row, nothing to tidy\n",
    "        pass\n",
    "        \n",
    "    elif row.floofer != 'None' and row.pupper == 'None'and \\\n",
    "    row.puppo == 'None' and row.doggo == 'None':\n",
    "        # valid floofer row\n",
    "        floofer_counter +=1 \n",
    "        \n",
    "    elif row.puppo != 'None' and row.doggo == 'None' and \\\n",
    "    row.floofer == 'None' and row.pupper == 'None':\n",
    "        # valid puppo row\n",
    "        puppo_counter +=1 \n",
    "\n",
    "    elif row.doggo != 'None' and row.floofer == 'None' and\\\n",
    "    row.pupper == 'None' and row.puppo == 'None':        \n",
    "        # valid doggo row\n",
    "        doggo_counter +=1 \n",
    "        \n",
    "    elif row.pupper != 'None' and row.puppo == 'None' and\\\n",
    "    row.doggo == 'None' and row.floofer == 'None':     \n",
    "        # valid pupper row\n",
    "        pupper_counter +=1   \n",
    "         \n",
    "    else:\n",
    "        # invalid maturity stage row\n",
    "        # ambiguous maturity stage ambiguous\n",
    "        multiple_stage_delete_list.append(row.tweet_id)\n",
    "        \n",
    "print('counter - {}'.format(counter))\n",
    "print('doggo_counter - {}'.format(doggo_counter))\n",
    "print('floofer_counter - {}'.format(floofer_counter))\n",
    "print('pupper_counter - {}'.format(pupper_counter))\n",
    "print('puppo_counter - {}\\n'.format(puppo_counter))\n",
    "print('multiple_stage_delete_list - {}'.format(multiple_stage_delete_list))\n",
    "print('len(multiple_stage_delete_list) - {}\\n'.format(len(multiple_stage_delete_list)))\n",
    "\n",
    "# delete ambiguous maturity stage rows  \n",
    "for tweet_id in multiple_stage_delete_list:\n",
    "    twitter_archive_enhanced_clean_df = \\\n",
    "    twitter_archive_enhanced_clean_df\\\n",
    "    [twitter_archive_enhanced_clean_df.tweet_id != tweet_id]"
   ]
  },
  {
   "cell_type": "markdown",
   "metadata": {},
   "source": [
    "### Test"
   ]
  },
  {
   "cell_type": "code",
   "execution_count": 35,
   "metadata": {},
   "outputs": [
    {
     "name": "stdout",
     "output_type": "stream",
     "text": [
      "twitter_archive_enhanced_clean_df.shape\n",
      "(2163, 15)\n",
      "\n"
     ]
    }
   ],
   "source": [
    "print('twitter_archive_enhanced_clean_df.shape')\n",
    "print(twitter_archive_enhanced_clean_df.shape)\n",
    "print()"
   ]
  },
  {
   "cell_type": "markdown",
   "metadata": {},
   "source": [
    "Success  \n",
    "12 ambiguous maturity rows removed  \n",
    "math works: 2175 - 2163 = 12  \n",
    "unambiguous individual maturity stage counts captured "
   ]
  },
  {
   "cell_type": "markdown",
   "metadata": {},
   "source": [
    "## Clean"
   ]
  },
  {
   "cell_type": "markdown",
   "metadata": {},
   "source": [
    "### Define"
   ]
  },
  {
   "cell_type": "markdown",
   "metadata": {},
   "source": [
    "populate the new 'maturity' pandas series, column"
   ]
  },
  {
   "cell_type": "markdown",
   "metadata": {},
   "source": [
    "### Code"
   ]
  },
  {
   "cell_type": "code",
   "execution_count": 36,
   "metadata": {},
   "outputs": [],
   "source": [
    "#\n",
    "# function used to populate maturity column based on \n",
    "# doggo, floofer, pupper, puppo\n",
    "#\n",
    "def update_maturity(tweet_id, legacy_maturity_stage ):\n",
    "    # print('um_tweet_id - {}'.format(tweet_id))\n",
    "    # print('um_tweet_id - {}'.format(legacy_maturity_stage))\n",
    "\n",
    "    twitter_archive_enhanced_clean_df.loc\\\n",
    "    [twitter_archive_enhanced_clean_df.tweet_id == tweet_id, 'maturity'] \\\n",
    "    =\\\n",
    "    twitter_archive_enhanced_clean_df.loc\\\n",
    "    [twitter_archive_enhanced_clean_df.tweet_id == tweet_id, legacy_maturity_stage]  \n",
    "    return"
   ]
  },
  {
   "cell_type": "code",
   "execution_count": 37,
   "metadata": {},
   "outputs": [
    {
     "name": "stdout",
     "output_type": "stream",
     "text": [
      "twitter_archive_enhanced_clean_df.maturity.value_counts()\n",
      "    2163\n",
      "Name: maturity, dtype: int64\n",
      "\n"
     ]
    }
   ],
   "source": [
    "#\n",
    "# populate maturity column based on doggo, floofer, pupper, puppo\n",
    "#\n",
    "\n",
    "print('twitter_archive_enhanced_clean_df.maturity.value_counts()')\n",
    "print(twitter_archive_enhanced_clean_df.maturity.value_counts())\n",
    "print()\n",
    "\n",
    "counter = 0\n",
    "doggo_counter = 0\n",
    "floofer_counter = 0\n",
    "pupper_counter = 0\n",
    "puppo_counter = 0\n",
    "\n",
    "for index, row in twitter_archive_enhanced_clean_df.iterrows():\n",
    "    counter += 1\n",
    "    \n",
    "    tweet_id = row.tweet_id\n",
    " \n",
    "    if row.floofer == 'None' and row.pupper == 'None'and \\\n",
    "    row.puppo == 'None' and row.doggo == 'None':\n",
    "        # valid row, nothing to tidy\n",
    "        pass\n",
    "        \n",
    "    elif row.floofer != 'None' and row.pupper == 'None'and \\\n",
    "    row.puppo == 'None' and row.doggo == 'None':\n",
    "        # valid floofer row\n",
    "        update_maturity(tweet_id, row.floofer)\n",
    "    elif row.puppo != 'None' and row.doggo == 'None' and \\\n",
    "    row.floofer == 'None' and row.pupper == 'None':\n",
    "        # valid puppo row\n",
    "        puppo_counter +=1\n",
    "        update_maturity(tweet_id, row.puppo)\n",
    " \n",
    "    # elif row.doggo != 'doggo' and row.doggo != 'None':\n",
    "    elif row.doggo != 'None' and row.floofer == 'None' and\\\n",
    "    row.pupper == 'None' and row.puppo == 'None':        \n",
    "        # valid doggo row\n",
    "        doggo_counter +=1\n",
    "        update_maturity(tweet_id, row.doggo)\n",
    "          \n",
    "    elif row.pupper != 'None' and row.puppo == 'None' and\\\n",
    "    row.doggo == 'None' and row.floofer == 'None':     \n",
    "        # valid pupper row\n",
    "        pupper_counter +=1 \n",
    "        update_maturity(tweet_id, row.pupper)\n",
    "        \n",
    "    else:\n",
    "        print('tweet_id - {}'.format(tweet_id))\n",
    "        sys.exit('ambiguous maturity stage found') "
   ]
  },
  {
   "cell_type": "markdown",
   "metadata": {},
   "source": [
    "### Test"
   ]
  },
  {
   "cell_type": "code",
   "execution_count": 38,
   "metadata": {},
   "outputs": [
    {
     "name": "stdout",
     "output_type": "stream",
     "text": [
      "twitter_archive_enhanced_clean_df.maturity.value_counts()\n",
      "           1831\n",
      "pupper      224\n",
      "doggo        75\n",
      "puppo        24\n",
      "floofer       9\n",
      "Name: maturity, dtype: int64\n"
     ]
    }
   ],
   "source": [
    "print('twitter_archive_enhanced_clean_df.maturity.value_counts()')\n",
    "print(twitter_archive_enhanced_clean_df.maturity.value_counts())"
   ]
  },
  {
   "cell_type": "markdown",
   "metadata": {},
   "source": [
    "Success - tidy counts match previous untidy counts\n",
    "* pre counts (multiple untidy maturity stage columns)\n",
    "  * doggo_counter - 75\n",
    "  * floofer_counter - 9\n",
    "  * pupper_counter - 224\n",
    "  * puppo_counter - 24\n",
    "  \n",
    "\n",
    "* post tidy counts\n",
    "  * doggo        75\n",
    "  * floofer       9\n",
    "  * pupper      224\n",
    "  * puppo        24\n"
   ]
  },
  {
   "cell_type": "markdown",
   "metadata": {},
   "source": [
    "## Clean"
   ]
  },
  {
   "cell_type": "markdown",
   "metadata": {},
   "source": [
    "### Define"
   ]
  },
  {
   "cell_type": "markdown",
   "metadata": {},
   "source": [
    "drop legacy individual columns"
   ]
  },
  {
   "cell_type": "markdown",
   "metadata": {},
   "source": [
    "### Code"
   ]
  },
  {
   "cell_type": "code",
   "execution_count": 39,
   "metadata": {},
   "outputs": [
    {
     "name": "stdout",
     "output_type": "stream",
     "text": [
      "column names - ['tweet_id', 'in_reply_to_status_id', 'in_reply_to_user_id', 'timestamp', 'source', 'text', 'expanded_urls', 'rating_numerator', 'rating_denominator', 'name', 'doggo', 'floofer', 'pupper', 'puppo', 'maturity']\n"
     ]
    }
   ],
   "source": [
    "print('column names - {}'.format(list(twitter_archive_enhanced_clean_df)))\n",
    "\n",
    "twitter_archive_enhanced_clean_df =\\\n",
    "twitter_archive_enhanced_clean_df.drop('doggo', axis=1)\n",
    "twitter_archive_enhanced_clean_df =\\\n",
    "twitter_archive_enhanced_clean_df.drop('floofer', axis=1)\n",
    "twitter_archive_enhanced_clean_df =\\\n",
    "twitter_archive_enhanced_clean_df.drop('pupper', axis=1)\n",
    "twitter_archive_enhanced_clean_df =\\\n",
    "twitter_archive_enhanced_clean_df.drop('puppo', axis=1)"
   ]
  },
  {
   "cell_type": "markdown",
   "metadata": {},
   "source": [
    "### Test"
   ]
  },
  {
   "cell_type": "code",
   "execution_count": 40,
   "metadata": {},
   "outputs": [
    {
     "name": "stdout",
     "output_type": "stream",
     "text": [
      "column names - ['tweet_id', 'in_reply_to_status_id', 'in_reply_to_user_id', 'timestamp', 'source', 'text', 'expanded_urls', 'rating_numerator', 'rating_denominator', 'name', 'maturity']\n"
     ]
    }
   ],
   "source": [
    "print('column names - {}'.format(list(twitter_archive_enhanced_clean_df)))"
   ]
  },
  {
   "cell_type": "markdown",
   "metadata": {},
   "source": [
    "Success  \n",
    "* individual maturity centric columns removed\n",
    "* Tidy compliance achieved "
   ]
  },
  {
   "cell_type": "code",
   "execution_count": 41,
   "metadata": {},
   "outputs": [],
   "source": [
    "# Save cleaned pandas DataFrame\n",
    "with open('twitter_archive_enhanced_clean_df.pkl', 'wb') as f:\n",
    "    pickle.dump(twitter_archive_enhanced_clean_df, f)\n"
   ]
  },
  {
   "cell_type": "code",
   "execution_count": 42,
   "metadata": {},
   "outputs": [
    {
     "name": "stdout",
     "output_type": "stream",
     "text": [
      "twitter_archive_enhanced_clean_df.shape\n",
      "(2163, 11)\n",
      "\n"
     ]
    }
   ],
   "source": [
    "# Read - make sure we can read it\n",
    "with open('twitter_archive_enhanced_clean_df.pkl', 'rb') as f:\n",
    "    twitter_archive_enhanced_clean_df = pickle.load(f)\n",
    "\n",
    "print('twitter_archive_enhanced_clean_df.shape')\n",
    "print(twitter_archive_enhanced_clean_df.shape)\n",
    "print() "
   ]
  }
 ],
 "metadata": {
  "kernelspec": {
   "display_name": "Python 3",
   "language": "python",
   "name": "python3"
  },
  "language_info": {
   "codemirror_mode": {
    "name": "ipython",
    "version": 3
   },
   "file_extension": ".py",
   "mimetype": "text/x-python",
   "name": "python",
   "nbconvert_exporter": "python",
   "pygments_lexer": "ipython3",
   "version": "3.6.3"
  }
 },
 "nbformat": 4,
 "nbformat_minor": 2
}
